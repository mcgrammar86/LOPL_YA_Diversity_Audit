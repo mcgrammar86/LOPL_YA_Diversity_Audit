{
  "nbformat": 4,
  "nbformat_minor": 0,
  "metadata": {
    "colab": {
      "name": "YA_audit.ipynb",
      "provenance": [],
      "collapsed_sections": [],
      "authorship_tag": "ABX9TyPtyvYr5EjJEyUpLqmLY3bx",
      "include_colab_link": true
    },
    "kernelspec": {
      "display_name": "Python 3",
      "name": "python3"
    },
    "language_info": {
      "name": "python"
    }
  },
  "cells": [
    {
      "cell_type": "markdown",
      "metadata": {
        "id": "view-in-github",
        "colab_type": "text"
      },
      "source": [
        "<a href=\"https://colab.research.google.com/github/mcgrammar86/LOPL_YA_Diversity_Audit/blob/main/YA_audit.ipynb\" target=\"_parent\"><img src=\"https://colab.research.google.com/assets/colab-badge.svg\" alt=\"Open In Colab\"/></a>"
      ]
    },
    {
      "cell_type": "code",
      "metadata": {
        "colab": {
          "base_uri": "https://localhost:8080/"
        },
        "id": "KtHtHitWRWck",
        "outputId": "4c080450-2cf9-42e9-837b-ee29fa0e58c5"
      },
      "source": [
        "!matplotlib inline\n",
        "import matplotlib as mpl\n",
        "import matplotlib.pyplot as plt\n",
        "import matplotlib.ticker as mtick\n",
        "import numpy as np\n",
        "import pandas as pd\n",
        "import seaborn as sns\n",
        "\n",
        "plt.style.use('seaborn')\n",
        "mpl.rcParams['axes.facecolor'] = 'w'\n",
        "mpl.rcParams['axes.grid'] = False\n",
        "mpl.rcParams['grid.color'] = 'lightgray'"
      ],
      "execution_count": 1,
      "outputs": [
        {
          "output_type": "stream",
          "text": [
            "/bin/bash: matplotlib: command not found\n"
          ],
          "name": "stdout"
        }
      ]
    },
    {
      "cell_type": "code",
      "metadata": {
        "id": "IciyUUlWDvdZ"
      },
      "source": [
        "audit_df = pd.read_csv('https://raw.githubusercontent.com/mcgrammar86/LOPL_YA_Diversity_Audit/main/YAFIC%20Diversity%20Audit.csv')\n"
      ],
      "execution_count": 2,
      "outputs": []
    },
    {
      "cell_type": "markdown",
      "metadata": {
        "id": "M76zNCiROSbp"
      },
      "source": [
        "**Let's start by having a quick look at the first 5 rows of our data, and a quick overview of the information that's contained therein.**"
      ]
    },
    {
      "cell_type": "code",
      "metadata": {
        "id": "8n26AvhbXWVs"
      },
      "source": [
        ""
      ],
      "execution_count": 2,
      "outputs": []
    },
    {
      "cell_type": "code",
      "metadata": {
        "colab": {
          "base_uri": "https://localhost:8080/",
          "height": 462
        },
        "id": "PqButjE8OPSD",
        "outputId": "1639e9af-3f2c-418a-b0cc-ad4111d2bb95"
      },
      "source": [
        "audit_df.head()"
      ],
      "execution_count": 3,
      "outputs": [
        {
          "output_type": "execute_result",
          "data": {
            "text/html": [
              "<div>\n",
              "<style scoped>\n",
              "    .dataframe tbody tr th:only-of-type {\n",
              "        vertical-align: middle;\n",
              "    }\n",
              "\n",
              "    .dataframe tbody tr th {\n",
              "        vertical-align: top;\n",
              "    }\n",
              "\n",
              "    .dataframe thead th {\n",
              "        text-align: right;\n",
              "    }\n",
              "</style>\n",
              "<table border=\"1\" class=\"dataframe\">\n",
              "  <thead>\n",
              "    <tr style=\"text-align: right;\">\n",
              "      <th></th>\n",
              "      <th>Author</th>\n",
              "      <th>Item Barcode</th>\n",
              "      <th>Catalog Title</th>\n",
              "      <th>Total Charges</th>\n",
              "      <th>Item Created Date</th>\n",
              "      <th>Black</th>\n",
              "      <th>Asian</th>\n",
              "      <th>Latinx</th>\n",
              "      <th>Indigenous</th>\n",
              "      <th>White</th>\n",
              "      <th>Pacific Islander/Native Hawaiian</th>\n",
              "      <th>Refugee/Immigrant</th>\n",
              "      <th>Gender Roles</th>\n",
              "      <th>LGBTQ+</th>\n",
              "      <th>Family Structure</th>\n",
              "      <th>Adoption/Foster</th>\n",
              "      <th>Homeless</th>\n",
              "      <th>Socio-Economic</th>\n",
              "      <th>Ability Diverse</th>\n",
              "      <th>Neurodiversity</th>\n",
              "      <th>Mental Illness</th>\n",
              "      <th>Health Concerns</th>\n",
              "      <th>Culture/Religion</th>\n",
              "      <th>Judaism</th>\n",
              "      <th>Islam/Muslim</th>\n",
              "      <th>Hinduism</th>\n",
              "      <th>Own Voices</th>\n",
              "    </tr>\n",
              "  </thead>\n",
              "  <tbody>\n",
              "    <tr>\n",
              "      <th>0</th>\n",
              "      <td>YA-GARCIA, KAMI</td>\n",
              "      <td>54858717.0</td>\n",
              "      <td>Beautiful darkness /</td>\n",
              "      <td>29.0</td>\n",
              "      <td>8/13/2013</td>\n",
              "      <td>NaN</td>\n",
              "      <td>NaN</td>\n",
              "      <td>x</td>\n",
              "      <td>NaN</td>\n",
              "      <td>x</td>\n",
              "      <td>NaN</td>\n",
              "      <td>NaN</td>\n",
              "      <td>NaN</td>\n",
              "      <td>NaN</td>\n",
              "      <td>NaN</td>\n",
              "      <td>NaN</td>\n",
              "      <td>NaN</td>\n",
              "      <td>NaN</td>\n",
              "      <td>NaN</td>\n",
              "      <td>NaN</td>\n",
              "      <td>NaN</td>\n",
              "      <td>NaN</td>\n",
              "      <td>NaN</td>\n",
              "      <td>NaN</td>\n",
              "      <td>NaN</td>\n",
              "      <td>NaN</td>\n",
              "      <td>x</td>\n",
              "    </tr>\n",
              "    <tr>\n",
              "      <th>1</th>\n",
              "      <td>YA-ABAWI, ATIA</td>\n",
              "      <td>55986129.0</td>\n",
              "      <td>The secret sky /</td>\n",
              "      <td>10.0</td>\n",
              "      <td>8/28/2014</td>\n",
              "      <td>NaN</td>\n",
              "      <td>x</td>\n",
              "      <td>NaN</td>\n",
              "      <td>NaN</td>\n",
              "      <td>NaN</td>\n",
              "      <td>NaN</td>\n",
              "      <td>NaN</td>\n",
              "      <td>NaN</td>\n",
              "      <td>NaN</td>\n",
              "      <td>NaN</td>\n",
              "      <td>NaN</td>\n",
              "      <td>NaN</td>\n",
              "      <td>NaN</td>\n",
              "      <td>NaN</td>\n",
              "      <td>NaN</td>\n",
              "      <td>NaN</td>\n",
              "      <td>NaN</td>\n",
              "      <td>x</td>\n",
              "      <td>NaN</td>\n",
              "      <td>x</td>\n",
              "      <td>NaN</td>\n",
              "      <td>x</td>\n",
              "    </tr>\n",
              "    <tr>\n",
              "      <th>2</th>\n",
              "      <td>YA-ABAWI, ATIA</td>\n",
              "      <td>70010731.0</td>\n",
              "      <td>A land of permanent goodbyes /</td>\n",
              "      <td>9.0</td>\n",
              "      <td>1/30/2018</td>\n",
              "      <td>NaN</td>\n",
              "      <td>x</td>\n",
              "      <td>NaN</td>\n",
              "      <td>NaN</td>\n",
              "      <td>NaN</td>\n",
              "      <td>NaN</td>\n",
              "      <td>x</td>\n",
              "      <td>NaN</td>\n",
              "      <td>NaN</td>\n",
              "      <td>NaN</td>\n",
              "      <td>NaN</td>\n",
              "      <td>NaN</td>\n",
              "      <td>NaN</td>\n",
              "      <td>NaN</td>\n",
              "      <td>NaN</td>\n",
              "      <td>NaN</td>\n",
              "      <td>NaN</td>\n",
              "      <td>NaN</td>\n",
              "      <td>NaN</td>\n",
              "      <td>x</td>\n",
              "      <td>NaN</td>\n",
              "      <td>x</td>\n",
              "    </tr>\n",
              "    <tr>\n",
              "      <th>3</th>\n",
              "      <td>YA-ABBOTT, TONY</td>\n",
              "      <td>70471990.0</td>\n",
              "      <td>Junk Boy</td>\n",
              "      <td>0.0</td>\n",
              "      <td>10/20/2020</td>\n",
              "      <td>NaN</td>\n",
              "      <td>NaN</td>\n",
              "      <td>NaN</td>\n",
              "      <td>NaN</td>\n",
              "      <td>x</td>\n",
              "      <td>NaN</td>\n",
              "      <td>NaN</td>\n",
              "      <td>NaN</td>\n",
              "      <td>x</td>\n",
              "      <td>x</td>\n",
              "      <td>NaN</td>\n",
              "      <td>NaN</td>\n",
              "      <td>x</td>\n",
              "      <td>NaN</td>\n",
              "      <td>NaN</td>\n",
              "      <td>NaN</td>\n",
              "      <td>NaN</td>\n",
              "      <td>NaN</td>\n",
              "      <td>NaN</td>\n",
              "      <td>NaN</td>\n",
              "      <td>NaN</td>\n",
              "      <td>NaN</td>\n",
              "    </tr>\n",
              "    <tr>\n",
              "      <th>4</th>\n",
              "      <td>YA-ABDEL-FATTAH, RANDA</td>\n",
              "      <td>46381760.0</td>\n",
              "      <td>Does my head look big in this? /</td>\n",
              "      <td>98.0</td>\n",
              "      <td>5/25/2007</td>\n",
              "      <td>NaN</td>\n",
              "      <td>x</td>\n",
              "      <td>NaN</td>\n",
              "      <td>NaN</td>\n",
              "      <td>NaN</td>\n",
              "      <td>NaN</td>\n",
              "      <td>NaN</td>\n",
              "      <td>NaN</td>\n",
              "      <td>NaN</td>\n",
              "      <td>NaN</td>\n",
              "      <td>NaN</td>\n",
              "      <td>NaN</td>\n",
              "      <td>NaN</td>\n",
              "      <td>NaN</td>\n",
              "      <td>NaN</td>\n",
              "      <td>NaN</td>\n",
              "      <td>NaN</td>\n",
              "      <td>x</td>\n",
              "      <td>NaN</td>\n",
              "      <td>x</td>\n",
              "      <td>NaN</td>\n",
              "      <td>x</td>\n",
              "    </tr>\n",
              "  </tbody>\n",
              "</table>\n",
              "</div>"
            ],
            "text/plain": [
              "                   Author  Item Barcode  ... Hinduism  Own Voices\n",
              "0         YA-GARCIA, KAMI    54858717.0  ...      NaN           x\n",
              "1          YA-ABAWI, ATIA    55986129.0  ...      NaN           x\n",
              "2          YA-ABAWI, ATIA    70010731.0  ...      NaN           x\n",
              "3         YA-ABBOTT, TONY    70471990.0  ...      NaN         NaN\n",
              "4  YA-ABDEL-FATTAH, RANDA    46381760.0  ...      NaN           x\n",
              "\n",
              "[5 rows x 27 columns]"
            ]
          },
          "metadata": {
            "tags": []
          },
          "execution_count": 3
        }
      ]
    },
    {
      "cell_type": "markdown",
      "metadata": {
        "id": "nJ1zXbx5QhFQ"
      },
      "source": [
        "**No need for the \"YA-\" before the author's name, or the slash at the end of the book titles. Let's remove them.**"
      ]
    },
    {
      "cell_type": "code",
      "metadata": {
        "id": "IiNtjfl_QgM2"
      },
      "source": [
        "audit_df['Author'] = audit_df['Author'].str.replace('YA-','')\n",
        "audit_df['Catalog Title'] = audit_df['Catalog Title'].str.replace(' /','')"
      ],
      "execution_count": 4,
      "outputs": []
    },
    {
      "cell_type": "code",
      "metadata": {
        "colab": {
          "base_uri": "https://localhost:8080/"
        },
        "id": "qDaC8SpWOdpM",
        "outputId": "ec8d6451-7210-4c76-f70f-e5747d2c999b"
      },
      "source": [
        "audit_df.info()"
      ],
      "execution_count": 5,
      "outputs": [
        {
          "output_type": "stream",
          "text": [
            "<class 'pandas.core.frame.DataFrame'>\n",
            "RangeIndex: 2284 entries, 0 to 2283\n",
            "Data columns (total 27 columns):\n",
            " #   Column                            Non-Null Count  Dtype  \n",
            "---  ------                            --------------  -----  \n",
            " 0   Author                            2284 non-null   object \n",
            " 1   Item Barcode                      2283 non-null   float64\n",
            " 2   Catalog Title                     2284 non-null   object \n",
            " 3   Total Charges                     2283 non-null   float64\n",
            " 4   Item Created Date                 2282 non-null   object \n",
            " 5   Black                             423 non-null    object \n",
            " 6   Asian                             503 non-null    object \n",
            " 7   Latinx                            337 non-null    object \n",
            " 8   Indigenous                        28 non-null     object \n",
            " 9   White                             1843 non-null   object \n",
            " 10  Pacific Islander/Native Hawaiian  23 non-null     object \n",
            " 11  Refugee/Immigrant                 44 non-null     object \n",
            " 12  Gender Roles                      124 non-null    object \n",
            " 13  LGBTQ+                            420 non-null    object \n",
            " 14  Family Structure                  123 non-null    object \n",
            " 15  Adoption/Foster                   26 non-null     object \n",
            " 16  Homeless                          15 non-null     object \n",
            " 17  Socio-Economic                    81 non-null     object \n",
            " 18  Ability Diverse                   77 non-null     object \n",
            " 19  Neurodiversity                    24 non-null     object \n",
            " 20  Mental Illness                    138 non-null    object \n",
            " 21  Health Concerns                   77 non-null     object \n",
            " 22  Culture/Religion                  87 non-null     object \n",
            " 23  Judaism                           59 non-null     object \n",
            " 24  Islam/Muslim                      59 non-null     object \n",
            " 25  Hinduism                          4 non-null      object \n",
            " 26  Own Voices                        387 non-null    object \n",
            "dtypes: float64(2), object(25)\n",
            "memory usage: 481.9+ KB\n"
          ],
          "name": "stdout"
        }
      ]
    },
    {
      "cell_type": "markdown",
      "metadata": {
        "id": "B1EV75-ZOwmB"
      },
      "source": [
        "**We find that there are 5 basic cataloging datapoints, along with 22 categories being tracked by the diversity audit. The categories are not encoded as boolean values, but as either an \"x\" to mark that category's presence within a work, or a missing value in its absence. Let's convert those to boolean values.**"
      ]
    },
    {
      "cell_type": "code",
      "metadata": {
        "id": "73g_qgBPPbNw"
      },
      "source": [
        "audit_columns = ['Black', 'Asian', 'Latinx', 'Indigenous', 'White',\n",
        "       'Pacific Islander/Native Hawaiian', 'Refugee/Immigrant', 'Gender Roles',\n",
        "       'LGBTQ+', 'Family Structure', 'Adoption/Foster', 'Homeless',\n",
        "       'Socio-Economic', 'Ability Diverse', 'Neurodiversity', 'Mental Illness',\n",
        "       'Health Concerns', 'Culture/Religion', 'Judaism', 'Islam/Muslim',\n",
        "       'Hinduism', 'Own Voices']\n",
        "\n",
        "for col in audit_columns:\n",
        "  audit_df[col] = (audit_df[col] == 'x')"
      ],
      "execution_count": 6,
      "outputs": []
    },
    {
      "cell_type": "markdown",
      "metadata": {
        "id": "cEDvAkUJPsmw"
      },
      "source": [
        "**Let's add up the number of categories present for each title to create a rough \"diversity score\" metric.**"
      ]
    },
    {
      "cell_type": "code",
      "metadata": {
        "colab": {
          "base_uri": "https://localhost:8080/"
        },
        "id": "hfWwDuMsONM-",
        "outputId": "03b85038-a654-4016-f69b-bc1126bd1353"
      },
      "source": [
        "audit_df['diversity_score'] = audit_df[audit_columns].sum(axis=1)\n",
        "audit_df['diversity_score'].value_counts().sort_index()"
      ],
      "execution_count": 7,
      "outputs": [
        {
          "output_type": "execute_result",
          "data": {
            "text/plain": [
              "0      76\n",
              "1     923\n",
              "2     550\n",
              "3     353\n",
              "4     199\n",
              "5     119\n",
              "6      39\n",
              "7      15\n",
              "8       4\n",
              "9       4\n",
              "10      1\n",
              "12      1\n",
              "Name: diversity_score, dtype: int64"
            ]
          },
          "metadata": {
            "tags": []
          },
          "execution_count": 7
        }
      ]
    },
    {
      "cell_type": "markdown",
      "metadata": {
        "id": "HKvrd19eRTwe"
      },
      "source": [
        "**There are 76 titles with no diversity category flagged as being present. This seems unusual. Let's look at what titles are present.**"
      ]
    },
    {
      "cell_type": "code",
      "metadata": {
        "colab": {
          "base_uri": "https://localhost:8080/"
        },
        "id": "5fLQ_lgpRJY6",
        "outputId": "9205bead-5f30-407b-8128-817641d59349"
      },
      "source": [
        "audit_df.loc[audit_df['diversity_score']==0, 'Catalog Title'].values"
      ],
      "execution_count": 8,
      "outputs": [
        {
          "output_type": "execute_result",
          "data": {
            "text/plain": [
              "array(['Speak', 'The assassination of Brangwain Spurge', 'Alone',\n",
              "       'King of scars', 'Siege and storm', 'Crooked kingdom',\n",
              "       'Ruin and rising', 'Frozen', 'Being Nikki', 'Honor among thieves',\n",
              "       'Paper and fire', 'Sun warrior', 'Hunted', 'The go-between',\n",
              "       'Caster', 'The wizard heir', 'The sorcerer heir',\n",
              "       'Ready player one', 'Catching fire', '29 dates', 'Pet',\n",
              "       'If I stay', 'How (not) to ask a boy to prom', 'Eve & Adam',\n",
              "       'Front lines', 'BZRK', 'BZRK reloaded', 'Lost stars',\n",
              "       'Shadow scale', 'The body in the woods', 'The courage of Elfina',\n",
              "       'Truly devious', 'The story of Owen : dragon slayer of Trondheim',\n",
              "       'To kill a mockingbird', 'Strange relations', 'We were liars',\n",
              "       'The power of Six', 'Queen of shadows', 'Nameless queen',\n",
              "       'Soundless', 'Fireborne', 'Dairy queen', 'Before I fall',\n",
              "       'Animal farm : a fairy story', 'Eragon', 'Tales from Alagaësia.',\n",
              "       'Eldest', 'The angel experiment', 'Maximum Ride forever',\n",
              "       'Where futures end', 'The shade of the moon', 'Nation', 'Nemesis',\n",
              "       'Endangered', 'Threatened', 'Rescued', 'Orphaned', 'Scythe',\n",
              "       'UnWholly', 'Thunderhead', 'The toll',\n",
              "       'Between the water & the woods', 'Notes from the midnight driver',\n",
              "       'Racing in the rain : my life as a dog', 'Shiver',\n",
              "       'Call down the hawk', 'The Raven King', 'Sinner', 'Street pharm',\n",
              "       '23 minutes', 'A Peculiar Peril', 'The devil is a part-timer!',\n",
              "       'The devil is a part-timer!.', 'Beautiful lies', 'One of us',\n",
              "       'Places no one knows'], dtype=object)"
            ]
          },
          "metadata": {
            "tags": []
          },
          "execution_count": 8
        }
      ]
    },
    {
      "cell_type": "markdown",
      "metadata": {
        "id": "3T6b7coJQwKI"
      },
      "source": [
        "**Some of these titles, such as \"To Kill A Mockingbird\" would likely have at least one category marked as present. Many might be fantasy, but with no further information available, it is unclear if the absence of any diversity category is correct. Let's export a copy of these titles to provide to the library for further inquiry.**"
      ]
    },
    {
      "cell_type": "code",
      "metadata": {
        "id": "qfP7JPo9pip0"
      },
      "source": [
        "audit_df.loc[audit_df['diversity_score']==0, ['Author', 'Catalog Title','Item Barcode']].to_csv('diversity_audit_no_data.csv')"
      ],
      "execution_count": 9,
      "outputs": []
    },
    {
      "cell_type": "markdown",
      "metadata": {
        "id": "U_hn0U6HSzGX"
      },
      "source": [
        "**For now, let's remove titles with no diversity categories present until we get further information.**"
      ]
    },
    {
      "cell_type": "code",
      "metadata": {
        "id": "SxeTvlr1aiE7"
      },
      "source": [
        "audit_df = audit_df[audit_df['diversity_score'] > 0]"
      ],
      "execution_count": 10,
      "outputs": []
    },
    {
      "cell_type": "markdown",
      "metadata": {
        "id": "2nW4vSqLS8GE"
      },
      "source": [
        "**Lastly, let's check to be sure there are no duplicate entries.**"
      ]
    },
    {
      "cell_type": "code",
      "metadata": {
        "colab": {
          "base_uri": "https://localhost:8080/"
        },
        "id": "C5G6Nx_4LlRG",
        "outputId": "405dd4b7-8275-446a-8a99-175e9392e18a"
      },
      "source": [
        "print(\"There are {} entries in the dataframe.\".format(audit_df.shape[0]))\n",
        "print(\"There are {} unique titles in the dataframe.\".format(audit_df['Catalog Title'].nunique()))\n",
        "print(\"There are {} unique barcodes in the dataframe.\".format(audit_df['Item Barcode'].nunique()))"
      ],
      "execution_count": 11,
      "outputs": [
        {
          "output_type": "stream",
          "text": [
            "There are 2208 entries in the dataframe.\n",
            "There are 2185 unique titles in the dataframe.\n",
            "There are 2207 unique barcodes in the dataframe.\n"
          ],
          "name": "stdout"
        }
      ]
    },
    {
      "cell_type": "markdown",
      "metadata": {
        "id": "gGD_3AaHVjUs"
      },
      "source": [
        "**We have some duplicate titles, but some of this may just be coincidence. Let's drop duplicates that share Author, Catalog Title, and diversity_score, and then have a closer look.**"
      ]
    },
    {
      "cell_type": "code",
      "metadata": {
        "colab": {
          "base_uri": "https://localhost:8080/",
          "height": 638
        },
        "id": "-4xmrGVhTjnG",
        "outputId": "67497d6f-08fd-4019-c126-108aeaad7ddf"
      },
      "source": [
        "audit_df = audit_df.drop_duplicates(subset=['Catalog Title' ,'Author','diversity_score'])\n",
        "title_counts = audit_df.value_counts('Catalog Title')\n",
        "duplicate_titles = title_counts[title_counts>1].index\n",
        "audit_df[audit_df['Catalog Title'].isin(duplicate_titles)][['Author','Catalog Title','diversity_score']].sort_values('Catalog Title')"
      ],
      "execution_count": 12,
      "outputs": [
        {
          "output_type": "execute_result",
          "data": {
            "text/html": [
              "<div>\n",
              "<style scoped>\n",
              "    .dataframe tbody tr th:only-of-type {\n",
              "        vertical-align: middle;\n",
              "    }\n",
              "\n",
              "    .dataframe tbody tr th {\n",
              "        vertical-align: top;\n",
              "    }\n",
              "\n",
              "    .dataframe thead th {\n",
              "        text-align: right;\n",
              "    }\n",
              "</style>\n",
              "<table border=\"1\" class=\"dataframe\">\n",
              "  <thead>\n",
              "    <tr style=\"text-align: right;\">\n",
              "      <th></th>\n",
              "      <th>Author</th>\n",
              "      <th>Catalog Title</th>\n",
              "      <th>diversity_score</th>\n",
              "    </tr>\n",
              "  </thead>\n",
              "  <tbody>\n",
              "    <tr>\n",
              "      <th>128</th>\n",
              "      <td>BAKER, CHANDLER</td>\n",
              "      <td>Alive</td>\n",
              "      <td>2</td>\n",
              "    </tr>\n",
              "    <tr>\n",
              "      <th>1917</th>\n",
              "      <td>SIGLER, SCOTT</td>\n",
              "      <td>Alive</td>\n",
              "      <td>1</td>\n",
              "    </tr>\n",
              "    <tr>\n",
              "      <th>1502</th>\n",
              "      <td>NESS, PATRICK</td>\n",
              "      <td>Burn</td>\n",
              "      <td>4</td>\n",
              "    </tr>\n",
              "    <tr>\n",
              "      <th>1035</th>\n",
              "      <td>JURY, WALTER #2</td>\n",
              "      <td>Burn</td>\n",
              "      <td>1</td>\n",
              "    </tr>\n",
              "    <tr>\n",
              "      <th>2192</th>\n",
              "      <td>WHEELER, THOMAS</td>\n",
              "      <td>Cursed</td>\n",
              "      <td>1</td>\n",
              "    </tr>\n",
              "    <tr>\n",
              "      <th>1923</th>\n",
              "      <td>SILVERSTEIN, KAROL RUTH</td>\n",
              "      <td>Cursed</td>\n",
              "      <td>4</td>\n",
              "    </tr>\n",
              "    <tr>\n",
              "      <th>90</th>\n",
              "      <td>ARMENTROUT, JENNIFER L.</td>\n",
              "      <td>Cursed</td>\n",
              "      <td>2</td>\n",
              "    </tr>\n",
              "    <tr>\n",
              "      <th>777</th>\n",
              "      <td>GILES, GAIL</td>\n",
              "      <td>Girls like us</td>\n",
              "      <td>3</td>\n",
              "    </tr>\n",
              "    <tr>\n",
              "      <th>1640</th>\n",
              "      <td>PINK, RANDI</td>\n",
              "      <td>Girls like us</td>\n",
              "      <td>4</td>\n",
              "    </tr>\n",
              "    <tr>\n",
              "      <th>1456</th>\n",
              "      <td>MORGAN, KASS #1</td>\n",
              "      <td>Light years</td>\n",
              "      <td>3</td>\n",
              "    </tr>\n",
              "    <tr>\n",
              "      <th>841</th>\n",
              "      <td>GRIFFIN, EMILY ZIFF</td>\n",
              "      <td>Light years</td>\n",
              "      <td>4</td>\n",
              "    </tr>\n",
              "    <tr>\n",
              "      <th>833</th>\n",
              "      <td>GREEN, JOHN</td>\n",
              "      <td>Paper towns</td>\n",
              "      <td>1</td>\n",
              "    </tr>\n",
              "    <tr>\n",
              "      <th>830</th>\n",
              "      <td>GREEN, JOHN</td>\n",
              "      <td>Paper towns</td>\n",
              "      <td>2</td>\n",
              "    </tr>\n",
              "    <tr>\n",
              "      <th>1268</th>\n",
              "      <td>LU, MARIE #4</td>\n",
              "      <td>Rebel</td>\n",
              "      <td>2</td>\n",
              "    </tr>\n",
              "    <tr>\n",
              "      <th>2086</th>\n",
              "      <td>TINTERA, AMY</td>\n",
              "      <td>Rebel</td>\n",
              "      <td>1</td>\n",
              "    </tr>\n",
              "    <tr>\n",
              "      <th>831</th>\n",
              "      <td>GREEN, JOHN</td>\n",
              "      <td>The fault in our stars</td>\n",
              "      <td>2</td>\n",
              "    </tr>\n",
              "    <tr>\n",
              "      <th>827</th>\n",
              "      <td>GREEN, JOHN</td>\n",
              "      <td>The fault in our stars</td>\n",
              "      <td>1</td>\n",
              "    </tr>\n",
              "    <tr>\n",
              "      <th>74</th>\n",
              "      <td>ANDERSON, LAURIE HALSE</td>\n",
              "      <td>Wintergirls</td>\n",
              "      <td>4</td>\n",
              "    </tr>\n",
              "    <tr>\n",
              "      <th>70</th>\n",
              "      <td>ANDERSON, LAURIE HALSE</td>\n",
              "      <td>Wintergirls</td>\n",
              "      <td>3</td>\n",
              "    </tr>\n",
              "  </tbody>\n",
              "</table>\n",
              "</div>"
            ],
            "text/plain": [
              "                       Author           Catalog Title  diversity_score\n",
              "128           BAKER, CHANDLER                   Alive                2\n",
              "1917            SIGLER, SCOTT                   Alive                1\n",
              "1502            NESS, PATRICK                    Burn                4\n",
              "1035          JURY, WALTER #2                    Burn                1\n",
              "2192          WHEELER, THOMAS                  Cursed                1\n",
              "1923  SILVERSTEIN, KAROL RUTH                  Cursed                4\n",
              "90    ARMENTROUT, JENNIFER L.                  Cursed                2\n",
              "777               GILES, GAIL           Girls like us                3\n",
              "1640              PINK, RANDI           Girls like us                4\n",
              "1456          MORGAN, KASS #1             Light years                3\n",
              "841       GRIFFIN, EMILY ZIFF             Light years                4\n",
              "833               GREEN, JOHN             Paper towns                1\n",
              "830               GREEN, JOHN             Paper towns                2\n",
              "1268             LU, MARIE #4                   Rebel                2\n",
              "2086             TINTERA, AMY                   Rebel                1\n",
              "831               GREEN, JOHN  The fault in our stars                2\n",
              "827               GREEN, JOHN  The fault in our stars                1\n",
              "74     ANDERSON, LAURIE HALSE             Wintergirls                4\n",
              "70     ANDERSON, LAURIE HALSE             Wintergirls                3"
            ]
          },
          "metadata": {
            "tags": []
          },
          "execution_count": 12
        }
      ]
    },
    {
      "cell_type": "markdown",
      "metadata": {
        "id": "mSljRet9WS4L"
      },
      "source": [
        "**Most of the above titles are unique, with the exceptions of *Papertowns* and *The Fault in Our Stars* by John Green and *Wintergirls* by Laurie Halse Anderson. We'll take a quick peak at each to be sure we retain the correct record.**"
      ]
    },
    {
      "cell_type": "code",
      "metadata": {
        "colab": {
          "base_uri": "https://localhost:8080/",
          "height": 199
        },
        "id": "Kewg9EG8WSMK",
        "outputId": "36f3e96d-2ead-404e-b955-b81555598c14"
      },
      "source": [
        "# Papertowns by John Green\n",
        "audit_df.loc[[830,833]]"
      ],
      "execution_count": 13,
      "outputs": [
        {
          "output_type": "execute_result",
          "data": {
            "text/html": [
              "<div>\n",
              "<style scoped>\n",
              "    .dataframe tbody tr th:only-of-type {\n",
              "        vertical-align: middle;\n",
              "    }\n",
              "\n",
              "    .dataframe tbody tr th {\n",
              "        vertical-align: top;\n",
              "    }\n",
              "\n",
              "    .dataframe thead th {\n",
              "        text-align: right;\n",
              "    }\n",
              "</style>\n",
              "<table border=\"1\" class=\"dataframe\">\n",
              "  <thead>\n",
              "    <tr style=\"text-align: right;\">\n",
              "      <th></th>\n",
              "      <th>Author</th>\n",
              "      <th>Item Barcode</th>\n",
              "      <th>Catalog Title</th>\n",
              "      <th>Total Charges</th>\n",
              "      <th>Item Created Date</th>\n",
              "      <th>Black</th>\n",
              "      <th>Asian</th>\n",
              "      <th>Latinx</th>\n",
              "      <th>Indigenous</th>\n",
              "      <th>White</th>\n",
              "      <th>Pacific Islander/Native Hawaiian</th>\n",
              "      <th>Refugee/Immigrant</th>\n",
              "      <th>Gender Roles</th>\n",
              "      <th>LGBTQ+</th>\n",
              "      <th>Family Structure</th>\n",
              "      <th>Adoption/Foster</th>\n",
              "      <th>Homeless</th>\n",
              "      <th>Socio-Economic</th>\n",
              "      <th>Ability Diverse</th>\n",
              "      <th>Neurodiversity</th>\n",
              "      <th>Mental Illness</th>\n",
              "      <th>Health Concerns</th>\n",
              "      <th>Culture/Religion</th>\n",
              "      <th>Judaism</th>\n",
              "      <th>Islam/Muslim</th>\n",
              "      <th>Hinduism</th>\n",
              "      <th>Own Voices</th>\n",
              "      <th>diversity_score</th>\n",
              "    </tr>\n",
              "  </thead>\n",
              "  <tbody>\n",
              "    <tr>\n",
              "      <th>830</th>\n",
              "      <td>GREEN, JOHN</td>\n",
              "      <td>56941032.0</td>\n",
              "      <td>Paper towns</td>\n",
              "      <td>51.0</td>\n",
              "      <td>7/24/2015</td>\n",
              "      <td>False</td>\n",
              "      <td>False</td>\n",
              "      <td>False</td>\n",
              "      <td>False</td>\n",
              "      <td>True</td>\n",
              "      <td>False</td>\n",
              "      <td>False</td>\n",
              "      <td>False</td>\n",
              "      <td>False</td>\n",
              "      <td>False</td>\n",
              "      <td>False</td>\n",
              "      <td>False</td>\n",
              "      <td>False</td>\n",
              "      <td>False</td>\n",
              "      <td>False</td>\n",
              "      <td>True</td>\n",
              "      <td>False</td>\n",
              "      <td>False</td>\n",
              "      <td>False</td>\n",
              "      <td>False</td>\n",
              "      <td>False</td>\n",
              "      <td>False</td>\n",
              "      <td>2</td>\n",
              "    </tr>\n",
              "    <tr>\n",
              "      <th>833</th>\n",
              "      <td>GREEN, JOHN</td>\n",
              "      <td>70213046.0</td>\n",
              "      <td>Paper towns</td>\n",
              "      <td>16.0</td>\n",
              "      <td>8/8/2018</td>\n",
              "      <td>False</td>\n",
              "      <td>False</td>\n",
              "      <td>False</td>\n",
              "      <td>False</td>\n",
              "      <td>True</td>\n",
              "      <td>False</td>\n",
              "      <td>False</td>\n",
              "      <td>False</td>\n",
              "      <td>False</td>\n",
              "      <td>False</td>\n",
              "      <td>False</td>\n",
              "      <td>False</td>\n",
              "      <td>False</td>\n",
              "      <td>False</td>\n",
              "      <td>False</td>\n",
              "      <td>False</td>\n",
              "      <td>False</td>\n",
              "      <td>False</td>\n",
              "      <td>False</td>\n",
              "      <td>False</td>\n",
              "      <td>False</td>\n",
              "      <td>False</td>\n",
              "      <td>1</td>\n",
              "    </tr>\n",
              "  </tbody>\n",
              "</table>\n",
              "</div>"
            ],
            "text/plain": [
              "          Author  Item Barcode  ... Own Voices  diversity_score\n",
              "830  GREEN, JOHN    56941032.0  ...      False                2\n",
              "833  GREEN, JOHN    70213046.0  ...      False                1\n",
              "\n",
              "[2 rows x 28 columns]"
            ]
          },
          "metadata": {
            "tags": []
          },
          "execution_count": 13
        }
      ]
    },
    {
      "cell_type": "code",
      "metadata": {
        "colab": {
          "base_uri": "https://localhost:8080/",
          "height": 267
        },
        "id": "bW9oSCCjXCrn",
        "outputId": "421deaae-3dbf-4abc-a736-df13b6f735cb"
      },
      "source": [
        "# The Fault in Our Stars by John Green\n",
        "audit_df.loc[[827,831]]"
      ],
      "execution_count": 14,
      "outputs": [
        {
          "output_type": "execute_result",
          "data": {
            "text/html": [
              "<div>\n",
              "<style scoped>\n",
              "    .dataframe tbody tr th:only-of-type {\n",
              "        vertical-align: middle;\n",
              "    }\n",
              "\n",
              "    .dataframe tbody tr th {\n",
              "        vertical-align: top;\n",
              "    }\n",
              "\n",
              "    .dataframe thead th {\n",
              "        text-align: right;\n",
              "    }\n",
              "</style>\n",
              "<table border=\"1\" class=\"dataframe\">\n",
              "  <thead>\n",
              "    <tr style=\"text-align: right;\">\n",
              "      <th></th>\n",
              "      <th>Author</th>\n",
              "      <th>Item Barcode</th>\n",
              "      <th>Catalog Title</th>\n",
              "      <th>Total Charges</th>\n",
              "      <th>Item Created Date</th>\n",
              "      <th>Black</th>\n",
              "      <th>Asian</th>\n",
              "      <th>Latinx</th>\n",
              "      <th>Indigenous</th>\n",
              "      <th>White</th>\n",
              "      <th>Pacific Islander/Native Hawaiian</th>\n",
              "      <th>Refugee/Immigrant</th>\n",
              "      <th>Gender Roles</th>\n",
              "      <th>LGBTQ+</th>\n",
              "      <th>Family Structure</th>\n",
              "      <th>Adoption/Foster</th>\n",
              "      <th>Homeless</th>\n",
              "      <th>Socio-Economic</th>\n",
              "      <th>Ability Diverse</th>\n",
              "      <th>Neurodiversity</th>\n",
              "      <th>Mental Illness</th>\n",
              "      <th>Health Concerns</th>\n",
              "      <th>Culture/Religion</th>\n",
              "      <th>Judaism</th>\n",
              "      <th>Islam/Muslim</th>\n",
              "      <th>Hinduism</th>\n",
              "      <th>Own Voices</th>\n",
              "      <th>diversity_score</th>\n",
              "    </tr>\n",
              "  </thead>\n",
              "  <tbody>\n",
              "    <tr>\n",
              "      <th>827</th>\n",
              "      <td>GREEN, JOHN</td>\n",
              "      <td>54856141.0</td>\n",
              "      <td>The fault in our stars</td>\n",
              "      <td>83.0</td>\n",
              "      <td>5/5/2014</td>\n",
              "      <td>False</td>\n",
              "      <td>False</td>\n",
              "      <td>False</td>\n",
              "      <td>False</td>\n",
              "      <td>True</td>\n",
              "      <td>False</td>\n",
              "      <td>False</td>\n",
              "      <td>False</td>\n",
              "      <td>False</td>\n",
              "      <td>False</td>\n",
              "      <td>False</td>\n",
              "      <td>False</td>\n",
              "      <td>False</td>\n",
              "      <td>False</td>\n",
              "      <td>False</td>\n",
              "      <td>False</td>\n",
              "      <td>False</td>\n",
              "      <td>False</td>\n",
              "      <td>False</td>\n",
              "      <td>False</td>\n",
              "      <td>False</td>\n",
              "      <td>False</td>\n",
              "      <td>1</td>\n",
              "    </tr>\n",
              "    <tr>\n",
              "      <th>831</th>\n",
              "      <td>GREEN, JOHN</td>\n",
              "      <td>65041741.0</td>\n",
              "      <td>The fault in our stars</td>\n",
              "      <td>46.0</td>\n",
              "      <td>9/11/2017</td>\n",
              "      <td>False</td>\n",
              "      <td>False</td>\n",
              "      <td>False</td>\n",
              "      <td>False</td>\n",
              "      <td>True</td>\n",
              "      <td>False</td>\n",
              "      <td>False</td>\n",
              "      <td>False</td>\n",
              "      <td>False</td>\n",
              "      <td>False</td>\n",
              "      <td>False</td>\n",
              "      <td>False</td>\n",
              "      <td>False</td>\n",
              "      <td>False</td>\n",
              "      <td>False</td>\n",
              "      <td>False</td>\n",
              "      <td>True</td>\n",
              "      <td>False</td>\n",
              "      <td>False</td>\n",
              "      <td>False</td>\n",
              "      <td>False</td>\n",
              "      <td>False</td>\n",
              "      <td>2</td>\n",
              "    </tr>\n",
              "  </tbody>\n",
              "</table>\n",
              "</div>"
            ],
            "text/plain": [
              "          Author  Item Barcode  ... Own Voices  diversity_score\n",
              "827  GREEN, JOHN    54856141.0  ...      False                1\n",
              "831  GREEN, JOHN    65041741.0  ...      False                2\n",
              "\n",
              "[2 rows x 28 columns]"
            ]
          },
          "metadata": {
            "tags": []
          },
          "execution_count": 14
        }
      ]
    },
    {
      "cell_type": "code",
      "metadata": {
        "colab": {
          "base_uri": "https://localhost:8080/",
          "height": 233
        },
        "id": "-4t2sFMNXChx",
        "outputId": "fd01769d-2de5-4c67-e392-a9bcc130ed1a"
      },
      "source": [
        "# Wintergirls by Laurie Halse Anderson\n",
        "audit_df.loc[[70,74]]"
      ],
      "execution_count": 15,
      "outputs": [
        {
          "output_type": "execute_result",
          "data": {
            "text/html": [
              "<div>\n",
              "<style scoped>\n",
              "    .dataframe tbody tr th:only-of-type {\n",
              "        vertical-align: middle;\n",
              "    }\n",
              "\n",
              "    .dataframe tbody tr th {\n",
              "        vertical-align: top;\n",
              "    }\n",
              "\n",
              "    .dataframe thead th {\n",
              "        text-align: right;\n",
              "    }\n",
              "</style>\n",
              "<table border=\"1\" class=\"dataframe\">\n",
              "  <thead>\n",
              "    <tr style=\"text-align: right;\">\n",
              "      <th></th>\n",
              "      <th>Author</th>\n",
              "      <th>Item Barcode</th>\n",
              "      <th>Catalog Title</th>\n",
              "      <th>Total Charges</th>\n",
              "      <th>Item Created Date</th>\n",
              "      <th>Black</th>\n",
              "      <th>Asian</th>\n",
              "      <th>Latinx</th>\n",
              "      <th>Indigenous</th>\n",
              "      <th>White</th>\n",
              "      <th>Pacific Islander/Native Hawaiian</th>\n",
              "      <th>Refugee/Immigrant</th>\n",
              "      <th>Gender Roles</th>\n",
              "      <th>LGBTQ+</th>\n",
              "      <th>Family Structure</th>\n",
              "      <th>Adoption/Foster</th>\n",
              "      <th>Homeless</th>\n",
              "      <th>Socio-Economic</th>\n",
              "      <th>Ability Diverse</th>\n",
              "      <th>Neurodiversity</th>\n",
              "      <th>Mental Illness</th>\n",
              "      <th>Health Concerns</th>\n",
              "      <th>Culture/Religion</th>\n",
              "      <th>Judaism</th>\n",
              "      <th>Islam/Muslim</th>\n",
              "      <th>Hinduism</th>\n",
              "      <th>Own Voices</th>\n",
              "      <th>diversity_score</th>\n",
              "    </tr>\n",
              "  </thead>\n",
              "  <tbody>\n",
              "    <tr>\n",
              "      <th>70</th>\n",
              "      <td>ANDERSON, LAURIE HALSE</td>\n",
              "      <td>48830210.0</td>\n",
              "      <td>Wintergirls</td>\n",
              "      <td>103.0</td>\n",
              "      <td>2/23/2009</td>\n",
              "      <td>False</td>\n",
              "      <td>False</td>\n",
              "      <td>False</td>\n",
              "      <td>False</td>\n",
              "      <td>True</td>\n",
              "      <td>False</td>\n",
              "      <td>False</td>\n",
              "      <td>False</td>\n",
              "      <td>False</td>\n",
              "      <td>True</td>\n",
              "      <td>False</td>\n",
              "      <td>False</td>\n",
              "      <td>False</td>\n",
              "      <td>False</td>\n",
              "      <td>False</td>\n",
              "      <td>True</td>\n",
              "      <td>False</td>\n",
              "      <td>False</td>\n",
              "      <td>False</td>\n",
              "      <td>False</td>\n",
              "      <td>False</td>\n",
              "      <td>False</td>\n",
              "      <td>3</td>\n",
              "    </tr>\n",
              "    <tr>\n",
              "      <th>74</th>\n",
              "      <td>ANDERSON, LAURIE HALSE</td>\n",
              "      <td>65103996.0</td>\n",
              "      <td>Wintergirls</td>\n",
              "      <td>5.0</td>\n",
              "      <td>4/5/2018</td>\n",
              "      <td>False</td>\n",
              "      <td>False</td>\n",
              "      <td>False</td>\n",
              "      <td>False</td>\n",
              "      <td>True</td>\n",
              "      <td>False</td>\n",
              "      <td>False</td>\n",
              "      <td>False</td>\n",
              "      <td>False</td>\n",
              "      <td>True</td>\n",
              "      <td>False</td>\n",
              "      <td>False</td>\n",
              "      <td>True</td>\n",
              "      <td>False</td>\n",
              "      <td>False</td>\n",
              "      <td>True</td>\n",
              "      <td>False</td>\n",
              "      <td>False</td>\n",
              "      <td>False</td>\n",
              "      <td>False</td>\n",
              "      <td>False</td>\n",
              "      <td>False</td>\n",
              "      <td>4</td>\n",
              "    </tr>\n",
              "  </tbody>\n",
              "</table>\n",
              "</div>"
            ],
            "text/plain": [
              "                    Author  Item Barcode  ... Own Voices  diversity_score\n",
              "70  ANDERSON, LAURIE HALSE    48830210.0  ...      False                3\n",
              "74  ANDERSON, LAURIE HALSE    65103996.0  ...      False                4\n",
              "\n",
              "[2 rows x 28 columns]"
            ]
          },
          "metadata": {
            "tags": []
          },
          "execution_count": 15
        }
      ]
    },
    {
      "cell_type": "markdown",
      "metadata": {
        "id": "eIscosnlXZUU"
      },
      "source": [
        "**After revewing, we can safely keep each record that has the higher diversity score.**"
      ]
    },
    {
      "cell_type": "code",
      "metadata": {
        "id": "I5vZmkO6XhhQ"
      },
      "source": [
        "audit_df = audit_df.drop(labels=[833, 827, 70], axis=0)"
      ],
      "execution_count": 16,
      "outputs": []
    },
    {
      "cell_type": "markdown",
      "metadata": {
        "id": "vtAcQUzxYDnP"
      },
      "source": [
        "**Now that we have a cleaned dataset, we can examine the relative frequency of each diversity category's presence within the collection.**"
      ]
    },
    {
      "cell_type": "code",
      "metadata": {
        "id": "Ds27LiX7rsYD",
        "colab": {
          "base_uri": "https://localhost:8080/",
          "height": 403
        },
        "outputId": "cfdb901e-2bb3-4390-d7f8-7c67b8ef85f2"
      },
      "source": [
        "fig, ax = plt.subplots(figsize=(12,6))\n",
        "audit_df[audit_columns].mean(axis=0).sort_values().plot.barh()\n",
        "plt.title('Diversity within the LOPL YA Fiction Collection')\n",
        "ax.set_xlabel('Proportion of works containing category')\n",
        "ax.set_ylabel('Diversity category')\n",
        "plt.grid(axis='x')\n",
        "plt.show()"
      ],
      "execution_count": 17,
      "outputs": [
        {
          "output_type": "display_data",
          "data": {
            "image/png": "[encoded data removed]",
            "text/plain": [
              "<Figure size 864x432 with 1 Axes>"
            ]
          },
          "metadata": {
            "tags": [],
            "needs_background": "light"
          }
        }
      ]
    },
    {
      "cell_type": "markdown",
      "metadata": {
        "id": "Xq0iVXsJYMh1"
      },
      "source": [
        "**Works featuring white charaters or white perspectives feature very heavily - about 80% of the collection. We can zoom in on the other categories for a clearer look at them.**"
      ]
    },
    {
      "cell_type": "code",
      "metadata": {
        "id": "LYHuxqf8XDCV",
        "colab": {
          "base_uri": "https://localhost:8080/",
          "height": 403
        },
        "outputId": "8b03a2f3-c502-4ba7-b7e1-ac5f2b460301"
      },
      "source": [
        "fig, ax = plt.subplots(figsize=(12,6))\n",
        "audit_df[audit_columns].drop('White',axis=1).mean(axis=0).sort_values().plot.barh()\n",
        "plt.title('Diversity within the LOPL YA Fiction Collection, excluding \"White\"')\n",
        "ax.set_xlabel('Proportion of works containing category')\n",
        "ax.set_ylabel('Diversity category')\n",
        "plt.grid(axis='x')\n",
        "plt.show()"
      ],
      "execution_count": 18,
      "outputs": [
        {
          "output_type": "display_data",
          "data": {
            "image/png": "[encoded data removed]",
            "text/plain": [
              "<Figure size 864x432 with 1 Axes>"
            ]
          },
          "metadata": {
            "tags": [],
            "needs_background": "light"
          }
        }
      ]
    },
    {
      "cell_type": "markdown",
      "metadata": {
        "id": "zI7aEhrhLmDC"
      },
      "source": [
        "**Ideally, we'd like to look not just at the composition of the collection itself, but also how this composition compares to that of the broader community of Lake Oswego. Let's pull data from the US Census Bureau's 2019 American Community Survey to get a clearer sense of community demographics.**"
      ]
    },
    {
      "cell_type": "code",
      "metadata": {
        "colab": {
          "base_uri": "https://localhost:8080/"
        },
        "id": "c_HDH3fjTUe_",
        "outputId": "c0ab937a-d9a5-437a-e3e5-2792339febe1"
      },
      "source": [
        "!pip install censusdata\n",
        "import censusdata"
      ],
      "execution_count": 19,
      "outputs": [
        {
          "output_type": "stream",
          "text": [
            "Collecting censusdata\n",
            "\u001b[?25l  Downloading https://files.pythonhosted.org/packages/80/25/b776f1974cc5f8781190dca5b8ee5d7edced527f7a4171aaf375069aa65a/CensusData-1.13.tar.gz (30.3MB)\n",
            "\u001b[K     |████████████████████████████████| 30.3MB 128kB/s \n",
            "\u001b[?25hRequirement already satisfied: pandas in /usr/local/lib/python3.7/dist-packages (from censusdata) (1.1.5)\n",
            "Requirement already satisfied: requests in /usr/local/lib/python3.7/dist-packages (from censusdata) (2.23.0)\n",
            "Requirement already satisfied: numpy>=1.15.4 in /usr/local/lib/python3.7/dist-packages (from pandas->censusdata) (1.19.5)\n",
            "Requirement already satisfied: pytz>=2017.2 in /usr/local/lib/python3.7/dist-packages (from pandas->censusdata) (2018.9)\n",
            "Requirement already satisfied: python-dateutil>=2.7.3 in /usr/local/lib/python3.7/dist-packages (from pandas->censusdata) (2.8.1)\n",
            "Requirement already satisfied: certifi>=2017.4.17 in /usr/local/lib/python3.7/dist-packages (from requests->censusdata) (2020.12.5)\n",
            "Requirement already satisfied: urllib3!=1.25.0,!=1.25.1,<1.26,>=1.21.1 in /usr/local/lib/python3.7/dist-packages (from requests->censusdata) (1.24.3)\n",
            "Requirement already satisfied: chardet<4,>=3.0.2 in /usr/local/lib/python3.7/dist-packages (from requests->censusdata) (3.0.4)\n",
            "Requirement already satisfied: idna<3,>=2.5 in /usr/local/lib/python3.7/dist-packages (from requests->censusdata) (2.10)\n",
            "Requirement already satisfied: six>=1.5 in /usr/local/lib/python3.7/dist-packages (from python-dateutil>=2.7.3->pandas->censusdata) (1.15.0)\n",
            "Building wheels for collected packages: censusdata\n",
            "  Building wheel for censusdata (setup.py) ... \u001b[?25l\u001b[?25hdone\n",
            "  Created wheel for censusdata: filename=CensusData-1.13-cp37-none-any.whl size=32269382 sha256=fd34bcf9e6260e55b12e66baf77e4905f70d36ce22375411d917724e0918ed3c\n",
            "  Stored in directory: /root/.cache/pip/wheels/e4/7f/e0/7fbb20cef77b96b59344deaf633a1dc571f76f229d4a06074e\n",
            "Successfully built censusdata\n",
            "Installing collected packages: censusdata\n",
            "Successfully installed censusdata-1.13\n"
          ],
          "name": "stdout"
        }
      ]
    },
    {
      "cell_type": "code",
      "metadata": {
        "id": "XXgohBNjon_M"
      },
      "source": [
        "lake_oswego_geocode = censusdata.censusgeo([('state', '41'), ('place', '40550')])"
      ],
      "execution_count": 20,
      "outputs": []
    },
    {
      "cell_type": "code",
      "metadata": {
        "id": "whCDn2hFE3Gj"
      },
      "source": [
        "# this is all ages, but it's possible to limit to specific age brackets: 10-14, 15-17, 18-19, 20, 21\n",
        "race_table_metadata = censusdata.censustable('acs5', 2019, 'B02001')\n",
        "race_table_vars = list(race_table_metadata.keys())[:6]\n",
        "race_table = censusdata.download('acs5', 2019, lake_oswego_geocode, race_table_vars)\n"
      ],
      "execution_count": 21,
      "outputs": []
    },
    {
      "cell_type": "code",
      "metadata": {
        "id": "u_713DEEqcp6"
      },
      "source": [
        ""
      ],
      "execution_count": 21,
      "outputs": []
    },
    {
      "cell_type": "code",
      "metadata": {
        "colab": {
          "base_uri": "https://localhost:8080/",
          "height": 80
        },
        "id": "c4XjS9AoLQ-w",
        "outputId": "16829ce0-074b-4fd6-ecdf-7f3d96c8ae05"
      },
      "source": [
        "race_table_columns = ['Total','White','Black','Indigenous','Asian','Pacific Islander/Native Hawaiian']\n",
        "race_table.columns = race_table_columns\n",
        "race_table.reset_index(inplace=True, drop=True)\n",
        "race_table"
      ],
      "execution_count": 22,
      "outputs": [
        {
          "output_type": "execute_result",
          "data": {
            "text/html": [
              "<div>\n",
              "<style scoped>\n",
              "    .dataframe tbody tr th:only-of-type {\n",
              "        vertical-align: middle;\n",
              "    }\n",
              "\n",
              "    .dataframe tbody tr th {\n",
              "        vertical-align: top;\n",
              "    }\n",
              "\n",
              "    .dataframe thead th {\n",
              "        text-align: right;\n",
              "    }\n",
              "</style>\n",
              "<table border=\"1\" class=\"dataframe\">\n",
              "  <thead>\n",
              "    <tr style=\"text-align: right;\">\n",
              "      <th></th>\n",
              "      <th>Total</th>\n",
              "      <th>White</th>\n",
              "      <th>Black</th>\n",
              "      <th>Indigenous</th>\n",
              "      <th>Asian</th>\n",
              "      <th>Pacific Islander/Native Hawaiian</th>\n",
              "    </tr>\n",
              "  </thead>\n",
              "  <tbody>\n",
              "    <tr>\n",
              "      <th>0</th>\n",
              "      <td>39127</td>\n",
              "      <td>33567</td>\n",
              "      <td>405</td>\n",
              "      <td>286</td>\n",
              "      <td>2404</td>\n",
              "      <td>173</td>\n",
              "    </tr>\n",
              "  </tbody>\n",
              "</table>\n",
              "</div>"
            ],
            "text/plain": [
              "   Total  White  Black  Indigenous  Asian  Pacific Islander/Native Hawaiian\n",
              "0  39127  33567    405         286   2404                               173"
            ]
          },
          "metadata": {
            "tags": []
          },
          "execution_count": 22
        }
      ]
    },
    {
      "cell_type": "code",
      "metadata": {
        "id": "m-0_KHQyNLFE"
      },
      "source": [
        "lake_oswego_population = race_table.loc[0,'Total']\n",
        "proportions_table = race_table / lake_oswego_population\n",
        "proportions_table = proportions_table.drop('Total', axis=1)"
      ],
      "execution_count": 23,
      "outputs": []
    },
    {
      "cell_type": "code",
      "metadata": {
        "id": "824t8h54ETQK"
      },
      "source": [
        "hispanic_table_metadata = censusdata.censustable('acs5', 2019, 'B03001')\n",
        "hispanic_table_vars = list(hispanic_table_metadata.keys())[:3]\n",
        "hispanic_table = censusdata.download('acs5', 2019, lake_oswego_geocode, hispanic_table_vars)"
      ],
      "execution_count": 24,
      "outputs": []
    },
    {
      "cell_type": "code",
      "metadata": {
        "id": "Or4U2NOcoqET"
      },
      "source": [
        "hispanic_table.columns = ['Total','Not Hispanic or Latino', 'Hispanic or Latino']\n",
        "hispanic_table.reset_index(inplace=True, drop=True)\n",
        "hispanic_proportion = hispanic_table.loc[0,'Hispanic or Latino'] / hispanic_table.loc[0,'Total']\n",
        "\n",
        "proportions_table['Latinx'] = hispanic_proportion"
      ],
      "execution_count": 25,
      "outputs": []
    },
    {
      "cell_type": "code",
      "metadata": {
        "id": "BBb2TxrZR7TT"
      },
      "source": [
        "immigration_table_info = censusdata.censustable('acs5', 2019, 'B05002')\n",
        "\n",
        "immigrant_table = censusdata.download('acs5', 2019, lake_oswego_geocode, ['B05002_009E'])\n",
        "immigrant_table.reset_index(inplace=True, drop=True)\n",
        "immigrant_proportion = (immigrant_table.loc[0,'B05002_009E'] / lake_oswego_population)\n",
        "\n",
        "proportions_table['Refugee/Immigrant'] = immigrant_proportion"
      ],
      "execution_count": 26,
      "outputs": []
    },
    {
      "cell_type": "code",
      "metadata": {
        "id": "o5KMzNthDblh"
      },
      "source": [
        "neurodiversity_table_info = censusdata.censustable('acs5', 2019, 'B18104')\n",
        "neurodiversity_table_info\n",
        "neurodiversity_vars = ['B18104_004E', 'B18104_007E','B18104_010E','B18104_013E','B18104_016E', 'B18104_020E','B18104_023E','B18104_026E','B18104_029E','B18104_032E']\n",
        "neurodiversity_table = censusdata.download('acs5', 2019, lake_oswego_geocode, neurodiversity_vars)\n",
        "neurodiverse_population = neurodiversity_table.values.sum()\n",
        "neurodiverse_proportion = neurodiverse_population / lake_oswego_population\n",
        "proportions_table['Neurodiversity'] = neurodiverse_proportion"
      ],
      "execution_count": 27,
      "outputs": []
    },
    {
      "cell_type": "code",
      "metadata": {
        "id": "HYYPNXf_KAUL"
      },
      "source": [
        "# Should this be limited to specific age range?\n",
        "\n",
        "ability_table_info = censusdata.censustable('acs5', 2019, 'B18101')\n",
        "ability_table_info\n",
        "ability_vars = ['B18101_004E', 'B18101_007E','B18101_010E','B18101_013E','B18101_016E', 'B18101_019E','B18101_023E','B18101_026E','B18101_029E','B18101_032E', 'B18101_035E', 'B18101_038E']\n",
        "ability_table = censusdata.download('acs5', 2019, lake_oswego_geocode, ability_vars)\n",
        "ability_population = ability_table.values.sum()\n",
        "ability_proportion = ability_population / lake_oswego_population\n",
        "proportions_table['Ability Diverse'] = ability_proportion"
      ],
      "execution_count": 28,
      "outputs": []
    },
    {
      "cell_type": "code",
      "metadata": {
        "id": "5C8KntmeJ3yZ"
      },
      "source": [
        "adopted_children = censusdata.download('acs5', 2019, lake_oswego_geocode, ['B09019_016E']).values\n",
        "proportions_table['Adoption/Foster'] = adopted_children / lake_oswego_population"
      ],
      "execution_count": 29,
      "outputs": []
    },
    {
      "cell_type": "code",
      "metadata": {
        "id": "jqAAP8pXAaGo"
      },
      "source": [
        "# According to the Williams Institute, approximately 5.6% of Oregon's population identifies as LGBTQ+\n",
        "proportions_table['LGBTQ+'] = 0.056"
      ],
      "execution_count": 30,
      "outputs": []
    },
    {
      "cell_type": "code",
      "metadata": {
        "id": "HBMpZ0I7hcuV"
      },
      "source": [
        "proportions_table.index=['LOPL Census']\n",
        "proportions_table = proportions_table.T"
      ],
      "execution_count": 31,
      "outputs": []
    },
    {
      "cell_type": "code",
      "metadata": {
        "id": "GLuxW16Em-i-"
      },
      "source": [
        "cols = ['Black', 'Asian', 'Latinx', 'Indigenous', 'White', 'Pacific Islander/Native Hawaiian', 'Refugee/Immigrant', 'LGBTQ+', 'Neurodiversity','Ability Diverse','Adoption/Foster']\n",
        "collection_proportions = pd.DataFrame(audit_df[cols].mean(axis=0).sort_values(ascending=False))\n",
        "collection_proportions.columns = ['LOPL YA Collection']\n",
        "ratios_df = pd.concat([collection_proportions, proportions_table], axis=1)"
      ],
      "execution_count": 32,
      "outputs": []
    },
    {
      "cell_type": "markdown",
      "metadata": {
        "id": "KmuH7BomaJWI"
      },
      "source": [
        "**Now that we have the data gathered, let's look at the demographic makeup of Lake Oswego.**"
      ]
    },
    {
      "cell_type": "code",
      "metadata": {
        "colab": {
          "base_uri": "https://localhost:8080/"
        },
        "id": "geG-ysjCZuGe",
        "outputId": "a682e182-e218-47ed-c787-4489d1cbf705"
      },
      "source": [
        "ratios_df['LOPL Census'].sort_values() * 100"
      ],
      "execution_count": 33,
      "outputs": [
        {
          "output_type": "execute_result",
          "data": {
            "text/plain": [
              "Pacific Islander/Native Hawaiian     0.442150\n",
              "Adoption/Foster                      0.649168\n",
              "Indigenous                           0.730953\n",
              "Black                                1.035091\n",
              "Refugee/Immigrant                    2.019066\n",
              "Neurodiversity                       3.084826\n",
              "Latinx                               5.175454\n",
              "LGBTQ+                               5.600000\n",
              "Asian                                6.144095\n",
              "Ability Diverse                      7.833465\n",
              "White                               85.789864\n",
              "Name: LOPL Census, dtype: float64"
            ]
          },
          "metadata": {
            "tags": []
          },
          "execution_count": 33
        }
      ]
    },
    {
      "cell_type": "markdown",
      "metadata": {
        "id": "7J7-FcbfaUGw"
      },
      "source": [
        "**Lake Oswego is predominantly white, much like the Portland metro area and Oregon as whole. Now that we have a good handle on the demographic makeup of the city, let's compare the census data and the collection data side-by-side.**"
      ]
    },
    {
      "cell_type": "code",
      "metadata": {
        "id": "LaibkHGnlAfk",
        "colab": {
          "base_uri": "https://localhost:8080/",
          "height": 403
        },
        "outputId": "023c0537-16f8-4abd-e39b-866ed525eae3"
      },
      "source": [
        "ratios_df[['LOPL YA Collection','LOPL Census']].sort_values('LOPL Census').plot.barh(figsize=(12,6), width=.75)\n",
        "plt.legend(fontsize=12, loc='lower right')\n",
        "plt.title('Representation from Census and Collection')\n",
        "plt.xlabel('Proportion')\n",
        "plt.grid(axis='x')\n",
        "plt.show()"
      ],
      "execution_count": 34,
      "outputs": [
        {
          "output_type": "display_data",
          "data": {
            "image/png": "[encoded data removed]",
            "text/plain": [
              "<Figure size 864x432 with 1 Axes>"
            ]
          },
          "metadata": {
            "tags": [],
            "needs_background": "light"
          }
        }
      ]
    },
    {
      "cell_type": "markdown",
      "metadata": {
        "id": "tl8j_kxgZi2Z"
      },
      "source": [
        "**As before, we can remove the \"White\" category from the visualization to get a closer look at the other categories.**"
      ]
    },
    {
      "cell_type": "code",
      "metadata": {
        "id": "PaWXlV4GW1yF",
        "colab": {
          "base_uri": "https://localhost:8080/",
          "height": 403
        },
        "outputId": "56378f31-8582-45d6-9608-bb2c78201746"
      },
      "source": [
        "ratios_df[['LOPL YA Collection','LOPL Census']].drop('White',axis=0).sort_values('LOPL Census').plot.barh(figsize=(12,6))\n",
        "plt.legend(fontsize=12)\n",
        "plt.title('Representation from Census and Collection excluding \"White\"')\n",
        "plt.xlabel('Proportion')\n",
        "plt.grid(axis='x')\n",
        "plt.show()"
      ],
      "execution_count": 35,
      "outputs": [
        {
          "output_type": "display_data",
          "data": {
            "image/png": "[encoded data removed]",
            "text/plain": [
              "<Figure size 864x432 with 1 Axes>"
            ]
          },
          "metadata": {
            "tags": [],
            "needs_background": "light"
          }
        }
      ]
    },
    {
      "cell_type": "markdown",
      "metadata": {
        "id": "9XqVRXMeNU7L"
      },
      "source": [
        "**We can see in the table above that there's a wide range of bar length variation between the census data and the collection itself. If we compare the length of these bars, we can produce a rough metric of how over/underrepresented various populations or topics are within the collection.**"
      ]
    },
    {
      "cell_type": "code",
      "metadata": {
        "id": "61l0wL5yr5on",
        "colab": {
          "base_uri": "https://localhost:8080/",
          "height": 403
        },
        "outputId": "cb9a8d15-44e7-469e-8701-1cb95870a894"
      },
      "source": [
        "ratios_df['representation_ratio'] = ratios_df['LOPL YA Collection'] / ratios_df['LOPL Census']\n",
        "ratios_df['representation_ratio'].sort_values().plot.barh(figsize=(12,6))\n",
        "plt.xticks(range(2,20,2))\n",
        "plt.title('Items relative to population')\n",
        "plt.xlabel('Category prevelance relative to population')\n",
        "plt.grid(axis='x')\n",
        "plt.show()\n"
      ],
      "execution_count": 36,
      "outputs": [
        {
          "output_type": "display_data",
          "data": {
            "image/png": "[encoded data removed]",
            "text/plain": [
              "<Figure size 864x432 with 1 Axes>"
            ]
          },
          "metadata": {
            "tags": [],
            "needs_background": "light"
          }
        }
      ]
    },
    {
      "cell_type": "markdown",
      "metadata": {
        "id": "s_Hy4GmadwLP"
      },
      "source": [
        "**The dataset is also provided with information about how much each item has circulated over its entire time in the collection. **"
      ]
    },
    {
      "cell_type": "code",
      "metadata": {
        "id": "FE-gwEUwwEuX"
      },
      "source": [
        "melted = audit_df.melt(id_vars=['Total Charges'], value_vars=audit_columns, var_name='Diversity Category')\n",
        "melted = melted[melted['value']].drop('value', axis=1)\n",
        "charges_df = melted.pivot_table(index='Diversity Category', values='Total Charges', aggfunc=[np.mean, np.median, np.sum])\n",
        "charges_df.columns = ['mean', 'median','sum']\n",
        "charges_df = charges_df.sort_values('mean')"
      ],
      "execution_count": 37,
      "outputs": []
    },
    {
      "cell_type": "markdown",
      "metadata": {
        "id": "nL6YvoXxAAeq"
      },
      "source": [
        "**The chart below can help visualize the relative popularity of different topics. The green bars show the average number of checkouts for books that contain each topic. Blue bars represent thae median number of checkouts for titles that contain each category. The greater the difference in the length of these bars, the more each topic's checkouts are dominated by a small number of titles.**"
      ]
    },
    {
      "cell_type": "code",
      "metadata": {
        "colab": {
          "base_uri": "https://localhost:8080/",
          "height": 620
        },
        "id": "tfa0GJM3Ln7F",
        "outputId": "fa931857-8819-43a0-8f16-a986fa0d87be"
      },
      "source": [
        "charges_df[['median','mean']].plot.barh(legend=False, figsize=(6.5,10), width=.6)\n",
        "plt.title('Total Charges by Category')\n",
        "plt.xlabel('Total Charges')\n",
        "plt.legend(loc='lower right', fontsize=13)\n",
        "plt.show()"
      ],
      "execution_count": 38,
      "outputs": [
        {
          "output_type": "display_data",
          "data": {
            "image/png": "[encoded data removed]",
            "text/plain": [
              "<Figure size 468x720 with 1 Axes>"
            ]
          },
          "metadata": {
            "tags": [],
            "needs_background": "light"
          }
        }
      ]
    },
    {
      "cell_type": "code",
      "metadata": {
        "id": "X638oaSKvYE1"
      },
      "source": [
        "ov_dict = {}\n",
        "for col in audit_columns[:-1]:\n",
        "   total = audit_df[col].sum()\n",
        "   ov = (audit_df[col] & audit_df['Own Voices']).sum()\n",
        "   ov_dict[col] = [ov/total, ov]\n",
        "   #print('{} is {:.1%} own voices'.format(col, ov/total))\n",
        "\n"
      ],
      "execution_count": 39,
      "outputs": []
    },
    {
      "cell_type": "code",
      "metadata": {
        "id": "vo4BYDvyY1lo"
      },
      "source": [
        "ov_df  = pd.DataFrame.from_dict(ov_dict, orient='index', columns=['Average Charges','Total'])\n"
      ],
      "execution_count": 40,
      "outputs": []
    },
    {
      "cell_type": "code",
      "metadata": {
        "id": "wsz5FAI-xWB9",
        "colab": {
          "base_uri": "https://localhost:8080/",
          "height": 566
        },
        "outputId": "d53f64da-d17d-44bb-baae-8f0aac28f859"
      },
      "source": [
        "ov_df.sort_values('Average Charges').plot.barh(y='Average Charges',figsize=(6,9), legend=False)\n",
        "plt.title('Own Voices Titles within Diversity Categories')\n",
        "plt.xlabel('Proportion of Category as Own Voices')\n",
        "plt.show()"
      ],
      "execution_count": 41,
      "outputs": [
        {
          "output_type": "display_data",
          "data": {
            "image/png": "[encoded data removed]",
            "text/plain": [
              "<Figure size 432x648 with 1 Axes>"
            ]
          },
          "metadata": {
            "tags": [],
            "needs_background": "light"
          }
        }
      ]
    },
    {
      "cell_type": "code",
      "metadata": {
        "colab": {
          "base_uri": "https://localhost:8080/",
          "height": 566
        },
        "id": "rIoba9n-ZgC9",
        "outputId": "7c2a5850-a3f6-42eb-908a-6552e960f5cf"
      },
      "source": [
        "ov_df.sort_values('Total').plot.barh(y='Total',figsize=(6,9), legend=False)\n",
        "plt.title('Own Voices Titles within Diversity Categories')\n",
        "plt.xlabel('Total within category as Own Voices')\n",
        "plt.show()"
      ],
      "execution_count": 42,
      "outputs": [
        {
          "output_type": "display_data",
          "data": {
            "image/png": "[encoded data removed]",
            "text/plain": [
              "<Figure size 432x648 with 1 Axes>"
            ]
          },
          "metadata": {
            "tags": [],
            "needs_background": "light"
          }
        }
      ]
    },
    {
      "cell_type": "code",
      "metadata": {
        "id": "5_KnrKqvxYUH"
      },
      "source": [
        "# how does this collection compare to reports from the publishing industry?\n",
        "# CCBC studies"
      ],
      "execution_count": 43,
      "outputs": []
    },
    {
      "cell_type": "code",
      "metadata": {
        "id": "U14wGYRqzHB9"
      },
      "source": [
        ""
      ],
      "execution_count": 43,
      "outputs": []
    },
    {
      "cell_type": "code",
      "metadata": {
        "id": "pw0FibmqS1UP"
      },
      "source": [
        ""
      ],
      "execution_count": 43,
      "outputs": []
    },
    {
      "cell_type": "markdown",
      "metadata": {
        "id": "pavBoDYcRo2f"
      },
      "source": [
        "**How has the diversity of the collection varied over time? Let's look at the raw average number of diversity categories present for titles added in each year**"
      ]
    },
    {
      "cell_type": "code",
      "metadata": {
        "id": "-mgZwTGozYwE",
        "colab": {
          "base_uri": "https://localhost:8080/",
          "height": 351
        },
        "outputId": "1eb136bd-43a6-4be5-bc06-08805b341d23"
      },
      "source": [
        "audit_df['Item Created Date'] = pd.to_datetime(audit_df['Item Created Date'])\n",
        "audit_df['Item Added Year'] = audit_df['Item Created Date'].apply(lambda x: x.year)\n",
        "diversity_by_year = audit_df.groupby('Item Added Year')['diversity_score'].agg(['mean'])\n",
        "\n",
        "fig, ax = plt.subplots(figsize=(8,5))\n",
        "diversity_by_year = diversity_by_year[diversity_by_year.index > 2003]\n",
        "\n",
        "plt.plot(diversity_by_year.index, diversity_by_year)\n",
        "plt.title('New Item Average Diversity Score by Year')\n",
        "plt.xlabel('Year', fontsize=13)\n",
        "plt.ylabel('Average Diversity Score')\n",
        "plt.yticks([.5,1,1.5,2,2.5,3])\n",
        "plt.xticks(range(2003,2022,2))\n",
        "plt.grid()\n",
        "plt.show()"
      ],
      "execution_count": 44,
      "outputs": [
        {
          "output_type": "display_data",
          "data": {
            "image/png": "[encoded data removed]",
            "text/plain": [
              "<Figure size 576x360 with 1 Axes>"
            ]
          },
          "metadata": {
            "tags": [],
            "needs_background": "light"
          }
        }
      ]
    },
    {
      "cell_type": "markdown",
      "metadata": {
        "id": "63aiotePSmvT"
      },
      "source": [
        "**Simply counting the raw number of diveristy categories represented in titles can tell an incomplete picture. For example, an increase in titles featuring the same two categories would cause the graph above to show an upward trend. We want to look more comprehensively at the diversity of the titles. We can create a code for each unique combination of diversity categories, and then apply a diversity metric. We'll be using Shannon's Diversity Index. https://en.wikipedia.org/wiki/Diversity_index**![Shannon.png](data:image/png;base64,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)"
      ]
    },
    {
      "cell_type": "code",
      "metadata": {
        "id": "cwrqRebTN7NT"
      },
      "source": [
        "audit_df['code'] = audit_df[audit_columns].astype(int).astype(str).agg(''.join, axis=1)\n",
        "codes_by_year = audit_df.groupby('Item Added Year')['code'].value_counts()"
      ],
      "execution_count": 45,
      "outputs": []
    },
    {
      "cell_type": "code",
      "metadata": {
        "colab": {
          "base_uri": "https://localhost:8080/",
          "height": 294
        },
        "id": "WQuG5OadT7lQ",
        "outputId": "738c5183-f60b-431f-fc9c-9bda16d19580"
      },
      "source": [
        "div_by_year = []\n",
        "\n",
        "# calculate Shannon Diversity Score. \n",
        "for year in codes_by_year.index.levels[0]:\n",
        "  year_values = codes_by_year[year].sort_values(ascending=False).values\n",
        "  year_values = year_values[year_values>0]\n",
        "  log_year_values = np.log(year_values)\n",
        "  N = year_values.sum()\n",
        "  shannon_H = (N * np.log(N) - (year_values * log_year_values).sum())/N\n",
        "  div_by_year.append(shannon_H)\n",
        "\n",
        "plt.plot(codes_by_year.index.levels[0][2:], div_by_year[2:], label='Shannon H\\'')\n",
        "plt.plot(diversity_by_year.index, diversity_by_year, label='Average diversity category count')\n",
        "plt.legend(loc='upper left', facecolor='w', frameon=True)\n",
        "plt.title('Change in collection diversity over time')\n",
        "plt.xlabel('Year')\n",
        "plt.ylabel('Diversity Score')\n",
        "plt.grid()\n",
        "plt.show()"
      ],
      "execution_count": 46,
      "outputs": [
        {
          "output_type": "display_data",
          "data": {
            "image/png": "[encoded data removed]",
            "text/plain": [
              "<Figure size 432x288 with 1 Axes>"
            ]
          },
          "metadata": {
            "tags": [],
            "needs_background": "light"
          }
        }
      ]
    },
    {
      "cell_type": "markdown",
      "metadata": {
        "id": "3i4ve9CWVpuZ"
      },
      "source": [
        "****"
      ]
    },
    {
      "cell_type": "markdown",
      "metadata": {
        "id": "LHLmXaPlHEzD"
      },
      "source": [
        "**As we can see, the simple average of diversity categories underrepresents the true increase in the diversity of the collection. The chart above shows a strong upward trend in the diversity present within the collection, starting in around 2015. Let's look at how the composition of the collection differed from before and after this trend began. Below, where green bars are longer than blue bars, the LOPL YA Collection has increased the relative proportion of titles featuring the associated diversity category.**"
      ]
    },
    {
      "cell_type": "code",
      "metadata": {
        "colab": {
          "base_uri": "https://localhost:8080/",
          "height": 606
        },
        "id": "Xi6R6U3QEMdu",
        "outputId": "f75032af-ac08-48c0-f693-f46614b6d327"
      },
      "source": [
        "cutoff_year = 2015\n",
        "by_year = audit_df.loc[audit_df['Item Added Year']<cutoff_year,audit_columns].mean(axis=0).to_frame()\n",
        "by_year.columns = ['before {}'.format(cutoff_year)]\n",
        "by_year['{} and after'.format(cutoff_year)] = audit_df.loc[audit_df['Item Added Year']>=cutoff_year,audit_columns].mean(axis=0).to_frame()\n",
        "by_year = by_year.sort_values(by_year.columns[0])\n",
        "by_year.plot.barh(figsize=(7,10))\n",
        "plt.legend(loc = 'lower right')\n",
        "plt.title('Changes within diversity category')\n",
        "plt.show()"
      ],
      "execution_count": 47,
      "outputs": [
        {
          "output_type": "display_data",
          "data": {
            "image/png": "[encoded data removed]",
            "text/plain": [
              "<Figure size 504x720 with 1 Axes>"
            ]
          },
          "metadata": {
            "tags": [],
            "needs_background": "light"
          }
        }
      ]
    },
    {
      "cell_type": "code",
      "metadata": {
        "id": "6OysevI9Umhb"
      },
      "source": [
        ""
      ],
      "execution_count": 47,
      "outputs": []
    },
    {
      "cell_type": "markdown",
      "metadata": {
        "id": "L5ZjaujzqRUG"
      },
      "source": [
        "**The average diversity score of newly acquired titles has been rising noticeably in the past five years. Are titles with more diversity categories present circulating more or less? We'll need to account for the fact that the \"Total Charges\" data is over the lifetime of the title's inclusion in the selection. Older titles will have had more time to circulate, after all. Unfortunately, this metric will suffer from survivorship bias, as items with poor circulation are more likely to be removed from the collection.**"
      ]
    },
    {
      "cell_type": "code",
      "metadata": {
        "colab": {
          "base_uri": "https://localhost:8080/",
          "height": 294
        },
        "id": "N8Pve0c0ak4E",
        "outputId": "2d0f0c3e-82f5-42fa-a5de-00b82e6cddff"
      },
      "source": [
        "# removing 1997, since there's just a single entry\n",
        "audit_df[audit_df['Item Added Year']>1998].groupby('Item Added Year')['Total Charges'].mean().plot()\n",
        "plt.title('Average checkouts by year')\n",
        "plt.show()"
      ],
      "execution_count": 48,
      "outputs": [
        {
          "output_type": "display_data",
          "data": {
            "image/png": "[encoded data removed]",
            "text/plain": [
              "<Figure size 432x288 with 1 Axes>"
            ]
          },
          "metadata": {
            "tags": [],
            "needs_background": "light"
          }
        }
      ]
    },
    {
      "cell_type": "markdown",
      "metadata": {
        "id": "-9jD1xkvvlMo"
      },
      "source": [
        "**Below we can see the 'survivorship bias' mentioned above. Older titles that have been retained in the collection are on average less diverse, but have circulated more.**"
      ]
    },
    {
      "cell_type": "code",
      "metadata": {
        "colab": {
          "base_uri": "https://localhost:8080/",
          "height": 294
        },
        "id": "nBeMN59ldUNx",
        "outputId": "73514695-3b0a-40ed-acec-ba2017e92515"
      },
      "source": [
        "from datetime import datetime\n",
        "audit_df['Days in Collection'] = audit_df['Item Created Date'].apply(lambda x: (datetime.today() - x).days)\n",
        "audit_df['Charges per year'] = audit_df['Total Charges'] / (audit_df['Days in Collection'] / 365)\n",
        "\n",
        "audit_df[audit_df['Item Added Year']>1998].groupby('Item Added Year')['Charges per year'].mean().plot()\n",
        "plt.title('Average checkouts per year by Item Added Year')\n",
        "plt.ylabel('')\n",
        "plt.show()"
      ],
      "execution_count": 49,
      "outputs": [
        {
          "output_type": "display_data",
          "data": {
            "image/png": "[encoded data removed]",
            "text/plain": [
              "<Figure size 432x288 with 1 Axes>"
            ]
          },
          "metadata": {
            "tags": [],
            "needs_background": "light"
          }
        }
      ]
    },
    {
      "cell_type": "markdown",
      "metadata": {
        "id": "tw6URZ3iyxyu"
      },
      "source": [
        "**If we look at average number of checkouts per year relative to the diversity score, we can see that accounting for the age of the item has removed much of the variability in the number of checkouts.**"
      ]
    },
    {
      "cell_type": "code",
      "metadata": {
        "colab": {
          "base_uri": "https://localhost:8080/",
          "height": 313
        },
        "id": "8vw5scCQwPNS",
        "outputId": "8f46788c-b69c-40e3-8d6b-90f1383ffae7"
      },
      "source": [
        "audit_df[audit_df['Item Added Year']>1998].groupby('diversity_score')['Charges per year'].mean().plot.bar()\n",
        "plt.title('Average checkouts per year by Item Added Year')"
      ],
      "execution_count": 50,
      "outputs": [
        {
          "output_type": "execute_result",
          "data": {
            "text/plain": [
              "Text(0.5, 1.0, 'Average checkouts per year by Item Added Year')"
            ]
          },
          "metadata": {
            "tags": []
          },
          "execution_count": 50
        },
        {
          "output_type": "display_data",
          "data": {
            "image/png": "[encoded data removed]",
            "text/plain": [
              "<Figure size 432x288 with 1 Axes>"
            ]
          },
          "metadata": {
            "tags": [],
            "needs_background": "light"
          }
        }
      ]
    },
    {
      "cell_type": "markdown",
      "metadata": {
        "id": "avydk2T_wPk9"
      },
      "source": [
        "**We can also try to account for the survivorship bias by running a linear regression analysis on the data. We're curious as to how the age and diversity score of an item impact the number of total checkouts for that item.**"
      ]
    },
    {
      "cell_type": "code",
      "metadata": {
        "colab": {
          "base_uri": "https://localhost:8080/"
        },
        "id": "l1wLgEoXeNaF",
        "outputId": "d4a62b0c-ce9a-4c96-8acc-6027196e9ef0"
      },
      "source": [
        "from sklearn.linear_model import LinearRegression\n",
        "from sklearn.preprocessing import StandardScaler\n",
        "\n",
        "linreg = LinearRegression()\n",
        "scaler = StandardScaler()\n",
        "linreg_data = audit_df[['Charges per year','diversity_score','Total Charges']].dropna(how='any', axis=0).values\n",
        "X = linreg_data[:,[0,1]]\n",
        "y = linreg_data[:,2]\n",
        "\n",
        "X_scaled = scaler.fit_transform(X)\n",
        "\n",
        "linreg.fit(X,y)\n",
        "print(linreg.score(X, y))\n",
        "age_factor, diversity_factor = linreg.coef_\n",
        "\n"
      ],
      "execution_count": 51,
      "outputs": [
        {
          "output_type": "stream",
          "text": [
            "0.5542804490539994\n"
          ],
          "name": "stdout"
        }
      ]
    },
    {
      "cell_type": "code",
      "metadata": {
        "colab": {
          "base_uri": "https://localhost:8080/"
        },
        "id": "QsdzL2SL0OW8",
        "outputId": "22c00a22-fdb2-4ef3-9533-c918e5fb1527"
      },
      "source": [
        "age_factor"
      ],
      "execution_count": 52,
      "outputs": [
        {
          "output_type": "execute_result",
          "data": {
            "text/plain": [
              "5.89899454594494"
            ]
          },
          "metadata": {
            "tags": []
          },
          "execution_count": 52
        }
      ]
    },
    {
      "cell_type": "code",
      "metadata": {
        "id": "hTV1nbyPAaqt",
        "colab": {
          "base_uri": "https://localhost:8080/"
        },
        "outputId": "40f2884c-5ae9-4d96-8863-7a045461e9c4"
      },
      "source": [
        "diversity_factor"
      ],
      "execution_count": 53,
      "outputs": [
        {
          "output_type": "execute_result",
          "data": {
            "text/plain": [
              "-1.8874711245773177"
            ]
          },
          "metadata": {
            "tags": []
          },
          "execution_count": 53
        }
      ]
    },
    {
      "cell_type": "code",
      "metadata": {
        "colab": {
          "base_uri": "https://localhost:8080/",
          "height": 486
        },
        "id": "s8ScMvbQaqdo",
        "outputId": "76b977a5-0fa2-44ca-b3b8-87bfe6b8b771"
      },
      "source": [
        "plt.hist(y, bins=50)"
      ],
      "execution_count": 54,
      "outputs": [
        {
          "output_type": "execute_result",
          "data": {
            "text/plain": [
              "(array([240., 237., 251., 210., 210.,  79., 175., 131., 104.,  95.,  52.,\n",
              "         33.,  63.,  31.,  27.,  39.,  14.,  26.,  23.,  21.,  15.,  12.,\n",
              "         10.,   8.,  18.,   4.,   6.,   4.,   6.,  10.,   7.,   3.,   3.,\n",
              "          1.,   6.,   1.,   3.,   1.,   0.,   2.,   1.,   2.,   0.,   0.,\n",
              "          0.,   1.,   0.,   0.,   2.,   2.]),\n",
              " array([  0.  ,   2.82,   5.64,   8.46,  11.28,  14.1 ,  16.92,  19.74,\n",
              "         22.56,  25.38,  28.2 ,  31.02,  33.84,  36.66,  39.48,  42.3 ,\n",
              "         45.12,  47.94,  50.76,  53.58,  56.4 ,  59.22,  62.04,  64.86,\n",
              "         67.68,  70.5 ,  73.32,  76.14,  78.96,  81.78,  84.6 ,  87.42,\n",
              "         90.24,  93.06,  95.88,  98.7 , 101.52, 104.34, 107.16, 109.98,\n",
              "        112.8 , 115.62, 118.44, 121.26, 124.08, 126.9 , 129.72, 132.54,\n",
              "        135.36, 138.18, 141.  ]),\n",
              " <a list of 50 Patch objects>)"
            ]
          },
          "metadata": {
            "tags": []
          },
          "execution_count": 54
        },
        {
          "output_type": "display_data",
          "data": {
            "image/png": "[encoded data removed]",
            "text/plain": [
              "<Figure size 432x288 with 1 Axes>"
            ]
          },
          "metadata": {
            "tags": [],
            "needs_background": "light"
          }
        }
      ]
    },
    {
      "cell_type": "code",
      "metadata": {
        "id": "kMfHxGZ8pjVK"
      },
      "source": [
        ""
      ],
      "execution_count": 54,
      "outputs": []
    },
    {
      "cell_type": "code",
      "metadata": {
        "colab": {
          "base_uri": "https://localhost:8080/",
          "height": 298
        },
        "id": "aARJ6dxBryFf",
        "outputId": "9a108b29-5487-4fb6-f92a-2332d523694b"
      },
      "source": [
        "audit_df.groupby('diversity_score')['Charges per year'].mean().plot.bar()"
      ],
      "execution_count": 56,
      "outputs": [
        {
          "output_type": "execute_result",
          "data": {
            "text/plain": [
              "<matplotlib.axes._subplots.AxesSubplot at 0x7fb818c51990>"
            ]
          },
          "metadata": {
            "tags": []
          },
          "execution_count": 56
        },
        {
          "output_type": "display_data",
          "data": {
            "image/png": "[encoded data removed]",
            "text/plain": [
              "<Figure size 432x288 with 1 Axes>"
            ]
          },
          "metadata": {
            "tags": [],
            "needs_background": "light"
          }
        }
      ]
    },
    {
      "cell_type": "code",
      "metadata": {
        "id": "fRjCkqVfr7Os"
      },
      "source": [
        ""
      ],
      "execution_count": null,
      "outputs": []
    }
  ]
}